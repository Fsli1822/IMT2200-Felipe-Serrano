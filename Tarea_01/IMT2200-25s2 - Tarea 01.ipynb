{
 "cells": [
  {
   "cell_type": "markdown",
   "id": "a34d140a",
   "metadata": {},
   "source": [
    "IMT 2200 - Introducción a Ciencia de Datos<br>\n",
    "**Pontificia Universidad Católica de Chile**<br>\n",
    "**Instituto de Ingeniería Matemática y Computacional**<br>\n",
    "**Semestre 2025-S2**<br>\n",
    "**Profesor:** Rodrigo A. Carrasco <br>\n",
    "\n",
    "---\n",
    "\n",
    "## Tarea 01 – Cargando y Analizando Datos\n",
    "\n",
    "- **Fecha de Entrega:** martes 26 de agosto de 2025, a las 23:59.\n",
    "- \n",
    "**Formato de entrega:** Notebook ejecutado y comentado (`.ipynb`) en l emódulo de Tara 01 habilitado en Canvas.\n",
    "\n",
    "\n"
   ]
  },
  {
   "cell_type": "markdown",
   "id": "b6928ed9-0a2b-4588-8282-b3f3e5e24a8c",
   "metadata": {},
   "source": [
    "## Instrucciones\n",
    "\n",
    "- Esta Tarea debe desarrollarse de manera totalmente *individual*, de acuerdo a lo establecido en la sección de Integridad Académica en el programa del curso.\n",
    "- La Tarea debe ser desarrollada en lenguaje de programación Python y la entrega en formato Jupyter Notebook.\n",
    "- El desarrollo del Notebook debe ser claro y ordenado, incluyendo anotaciones (markdown) y comentarios que permitan seguir fácilmente el código y los pasos implementados a los correctores, y siguiendo buenas prácticas de programación. La presentación y claridad del notebook y código forman parte de la evaluación de la tarea.\n",
    "- Notebook **autocontenible** que:\n",
    "   - Ejecute sin errores todas las celdas.\n",
    "  - Contenga tanto el código como los comentarios y explicaciones necesarias.\n",
    "  - Incluya visualizaciones claras y correctamente etiquetadas.\n",
    "- No se aceptarán notebooks con celdas rotas o que dependan de rutas externas no indicadas en la tara.\n",
    "\n",
    "- Deben hacer sus consultas y comentarios sobre la Tarea a traves del canal de Tareas en eo del curso en Canvas.os.\n",
    "cteriza."
   ]
  },
  {
   "cell_type": "markdown",
   "id": "35a88d5e-b718-4b8e-81c8-dc169d02e88e",
   "metadata": {},
   "source": [
    "## 1. Objetivos\n",
    "\n",
    "- Aplicar los conceptos iniciales de manejo de datos y análisis exploratorio vistos en clases.\n",
    "- Practicar la lectura, limpieza y manipulación de datos en Python.\n",
    "- Desarrollar habilidades para visualizar y describir patrones y tendencias en conjuntos de datos reales.\n",
    "- Fomentar la capacidad de comunicar resultados de forma clara y fundamentada.\n",
    "\n",
    "### 1.1 Objetivo educacional\n",
    "\n",
    "Esta Tarea tiene como objetivo que los estudiantes desarrollen la capacidad de manejar algunas de las librerías centrales para el desarrollo de Ciencia de Datos, con foco en la lectura y exploración de datos. \n",
    "\n",
    "Para los ejercicios a continuación, usted deberá leer, inspeccionar, manipular y graficar conjuntos de datos en distintos formatos, de manera de responder las preguntas de cada parte de la Tarea.\n",
    "\n",
    "### 1.2 Pregunta de ciencia de datos\n",
    "\n",
    "Para esta tarea, tendremos como objetivo comprender cómo han cambiado los juegos de mesa en los últimos 40 años. Específicamente queremos saber qué tipos de juegos se han vuelto más comunes hoy en día y qué los caracteriza.\n",
    "\n",
    "### 1.3 Recomendaciones\n",
    "- Utiliza las librerías sugeridas en el notebook o justifica brevemente si incorporas otras.\n",
    "- Revisa que todas las celdas se ejecuten en orden, desde el inicio, sin errores.\n",
    "- Comenta tu código para explicar qué hace cada sección relevante.\n",
    "- Asegúrate de que las visualizaciones sean fáciles de interpretar y tengan títulos y etiquetas adecuados."
   ]
  },
  {
   "cell_type": "markdown",
   "id": "116596ef",
   "metadata": {},
   "source": [
    "## 2. Datos\n",
    "\n",
    "Estaremos utilizando información extraída desde [BoardGameGeek.com](https://boardgamegeek.com/), una plataforma para aficionados de los juegos de mesa, que permite a sus usuarios registrar, calificar e intercambiar sus juegos favoritos. Actualmente, BGG es una de las bases de datos más extensa y diversa de juegos de mesa.\n",
    "\n",
    "El dataset con el que trabajaremos consiste en un grupo de archivos CSV que contienen información sobre más de 100.000 juegos de mesa almacenados en la plataforma. Este puede descargarse directamente desde el siguiente enlace: https://www.kaggle.com/datasets/mshepherd/board-games Para descargar los datos, haga click en el botón de **Download**, donde podrá descargar los archivos como `.zip`, o bien utilizar la API de Kaggle.\n",
    "\n",
    "Para el desarrollo de esta tarea, solo utilizaremos los archivos con el prefijo `bgg_`.\n",
    "\n",
    "**Si utiliza la API de Kaggle para descargar los datos, deje el código utilizado en la siguiente celda:**"
   ]
  },
  {
   "cell_type": "code",
   "execution_count": 2,
   "id": "3499fd7e",
   "metadata": {},
   "outputs": [],
   "source": [
    "# Descarga de datos desde Kaggle"
   ]
  },
  {
   "cell_type": "markdown",
   "id": "c32f6e52",
   "metadata": {},
   "source": [
    "### 2.1 Librerías\n",
    "\n",
    "Para esta tarea recomendamos al menos usar las librerías indicadas en la siguiente celda del Notebook. Puede agregar otras si lo estima conveniente para responder de mejor forma las preguntas de la Tarea."
   ]
  },
  {
   "cell_type": "code",
   "execution_count": 3,
   "id": "87be9d83",
   "metadata": {},
   "outputs": [],
   "source": [
    "import numpy as np\n",
    "import pandas as pd\n",
    "import matplotlib.pyplot as plt"
   ]
  },
  {
   "cell_type": "markdown",
   "id": "49c9c1e7",
   "metadata": {},
   "source": [
    "## 3. Desarrollo\n",
    "\n",
    "Para cada una de las siguientes preguntas o actividades incluya una o más celdas de código y Markdown con las respuestas o comentarios necesarios para contestar la pregunta o lograr la actividad. Agregue sus celdas a continuación de cada pregunta para que el Notebook quede ordenado.\n",
    "\n",
    "En el caso de gráficos, figuras o tablas, asegúrese que todas tengan título, etiquetas en los ejes o haya claridad de los contenidos."
   ]
  },
  {
   "cell_type": "markdown",
   "id": "dfc274ca",
   "metadata": {},
   "source": [
    "### 3.1 DataFrame unificado (1 punto)\n",
    "\n",
    "Vamos a cargar en un DataFrame los datos de juegos guardados en el documento `bgg_GameItem.csv`. Al inspeccionar nuestros datos, podemos notar que los valores de ciertas comunas vienen \"codificados\" con ID. Para comenzar, vamos a juntar la información de los distintos archivos descargados.\n",
    "\n",
    "**a) (0.8 pts)** Genere un DataFrame único con toda la información de cada juego, incluyendo: nombres de artistas y diseñadores involucrados, mecánicas, categorías, tipo, familia y editorial. Guarde este DataFrame en un nuevo archivo CSV."
   ]
  },
  {
   "cell_type": "markdown",
   "id": "5ac35d88",
   "metadata": {},
   "source": [
    "- <b>Primero:<b> abrimos las rutas de los archivos a trabajar"
   ]
  },
  {
   "cell_type": "code",
   "execution_count": 4,
   "id": "e964f34b",
   "metadata": {},
   "outputs": [],
   "source": [
    "GameItem = pd.read_csv(\"data/bgg_GameItem.csv\")\n",
    "ArtistasDiseñadores = pd.read_csv(\"Data/bgg_Person.csv\")\n",
    "Mecanicas = pd.read_csv(\"Data/bgg_Mechanic.csv\")\n",
    "Categoria = pd.read_csv(\"Data/bgg_Category.csv\")\n",
    "Tipo = pd.read_csv(\"Data/bgg_GameType.csv\")\n",
    "Familia = pd.read_csv(\"Data/bgg_GameFamily.csv\")\n",
    "Editorial = pd.read_csv(\"Data/bgg_Publisher.csv\")"
   ]
  },
  {
   "cell_type": "markdown",
   "id": "a2cda3aa",
   "metadata": {},
   "source": [
    "<b> - Luego con el comando .map sobreescribimos las columnas que necesitamos. <b>"
   ]
  },
  {
   "cell_type": "code",
   "execution_count": 5,
   "id": "3b4334e2",
   "metadata": {},
   "outputs": [],
   "source": [
    "GameItem[\"game_type\"] = GameItem[\"bgg_id\"].map(Tipo.set_index(\"bgg_id\")[\"name\"])"
   ]
  },
  {
   "cell_type": "code",
   "execution_count": 6,
   "id": "b2dbb023",
   "metadata": {},
   "outputs": [],
   "source": [
    "GameItem[\"family\"] = GameItem[\"bgg_id\"].map(Familia.set_index(\"bgg_id\")[\"name\"])"
   ]
  },
  {
   "cell_type": "code",
   "execution_count": 7,
   "id": "8046ecb7",
   "metadata": {},
   "outputs": [],
   "source": [
    "GameItem[\"publisher\"] = GameItem[\"bgg_id\"].map(Editorial.set_index(\"bgg_id\")[\"name\"])"
   ]
  },
  {
   "cell_type": "code",
   "execution_count": 8,
   "id": "35eec35a",
   "metadata": {},
   "outputs": [],
   "source": [
    "GameItem[\"designer\"] = GameItem[\"bgg_id\"].map(ArtistasDiseñadores.set_index(\"bgg_id\")[\"name\"])\n",
    "GameItem[\"artist\"] = GameItem[\"bgg_id\"].map(ArtistasDiseñadores.set_index(\"bgg_id\")[\"name\"])"
   ]
  },
  {
   "cell_type": "code",
   "execution_count": 9,
   "id": "d424163a",
   "metadata": {},
   "outputs": [],
   "source": [
    "GameItem[\"mechanic\"] = GameItem[\"bgg_id\"].map(Mecanicas.set_index(\"bgg_id\")[\"name\"])"
   ]
  },
  {
   "cell_type": "code",
   "execution_count": 10,
   "id": "dc96c0ab",
   "metadata": {},
   "outputs": [],
   "source": [
    "GameItem[\"category\"] = GameItem[\"bgg_id\"].map(Categoria.set_index(\"bgg_id\")[\"name\"])"
   ]
  },
  {
   "cell_type": "markdown",
   "id": "4be5d1bb",
   "metadata": {},
   "source": [
    "<b> - Por ultimo con el .head generamos el dataframe. <b>"
   ]
  },
  {
   "cell_type": "code",
   "execution_count": 11,
   "id": "978fe4f7",
   "metadata": {},
   "outputs": [
    {
     "data": {
      "text/html": [
       "<div>\n",
       "<style scoped>\n",
       "    .dataframe tbody tr th:only-of-type {\n",
       "        vertical-align: middle;\n",
       "    }\n",
       "\n",
       "    .dataframe tbody tr th {\n",
       "        vertical-align: top;\n",
       "    }\n",
       "\n",
       "    .dataframe thead th {\n",
       "        text-align: right;\n",
       "    }\n",
       "</style>\n",
       "<table border=\"1\" class=\"dataframe\">\n",
       "  <thead>\n",
       "    <tr style=\"text-align: right;\">\n",
       "      <th></th>\n",
       "      <th>bgg_id</th>\n",
       "      <th>name</th>\n",
       "      <th>year</th>\n",
       "      <th>game_type</th>\n",
       "      <th>designer</th>\n",
       "      <th>artist</th>\n",
       "      <th>publisher</th>\n",
       "      <th>min_players</th>\n",
       "      <th>max_players</th>\n",
       "      <th>min_players_rec</th>\n",
       "      <th>...</th>\n",
       "      <th>stddev_rating</th>\n",
       "      <th>bayes_rating</th>\n",
       "      <th>complexity</th>\n",
       "      <th>language_dependency</th>\n",
       "      <th>bga_id</th>\n",
       "      <th>dbpedia_id</th>\n",
       "      <th>luding_id</th>\n",
       "      <th>spielen_id</th>\n",
       "      <th>wikidata_id</th>\n",
       "      <th>wikipedia_id</th>\n",
       "    </tr>\n",
       "  </thead>\n",
       "  <tbody>\n",
       "    <tr>\n",
       "      <th>0</th>\n",
       "      <td>1</td>\n",
       "      <td>Die Macher</td>\n",
       "      <td>1986.0</td>\n",
       "      <td>NaN</td>\n",
       "      <td>Karl-Heinz Schmiel</td>\n",
       "      <td>Karl-Heinz Schmiel</td>\n",
       "      <td>NaN</td>\n",
       "      <td>3.0</td>\n",
       "      <td>5.0</td>\n",
       "      <td>4.0</td>\n",
       "      <td>...</td>\n",
       "      <td>1.57510</td>\n",
       "      <td>7.06367</td>\n",
       "      <td>4.3144</td>\n",
       "      <td>1.166667</td>\n",
       "      <td>NaN</td>\n",
       "      <td>NaN</td>\n",
       "      <td>NaN</td>\n",
       "      <td>NaN</td>\n",
       "      <td>NaN</td>\n",
       "      <td>NaN</td>\n",
       "    </tr>\n",
       "    <tr>\n",
       "      <th>1</th>\n",
       "      <td>2</td>\n",
       "      <td>Dragonmaster</td>\n",
       "      <td>1981.0</td>\n",
       "      <td>NaN</td>\n",
       "      <td>Reiner Knizia</td>\n",
       "      <td>Reiner Knizia</td>\n",
       "      <td>Moskito Spiele</td>\n",
       "      <td>3.0</td>\n",
       "      <td>4.0</td>\n",
       "      <td>3.0</td>\n",
       "      <td>...</td>\n",
       "      <td>1.46752</td>\n",
       "      <td>5.76599</td>\n",
       "      <td>1.9636</td>\n",
       "      <td>NaN</td>\n",
       "      <td>NaN</td>\n",
       "      <td>NaN</td>\n",
       "      <td>NaN</td>\n",
       "      <td>NaN</td>\n",
       "      <td>NaN</td>\n",
       "      <td>NaN</td>\n",
       "    </tr>\n",
       "    <tr>\n",
       "      <th>2</th>\n",
       "      <td>3</td>\n",
       "      <td>Samurai</td>\n",
       "      <td>1998.0</td>\n",
       "      <td>NaN</td>\n",
       "      <td>(Uncredited)</td>\n",
       "      <td>(Uncredited)</td>\n",
       "      <td>Rio Grande Games</td>\n",
       "      <td>2.0</td>\n",
       "      <td>4.0</td>\n",
       "      <td>2.0</td>\n",
       "      <td>...</td>\n",
       "      <td>1.19279</td>\n",
       "      <td>7.22869</td>\n",
       "      <td>2.4784</td>\n",
       "      <td>1.006579</td>\n",
       "      <td>NaN</td>\n",
       "      <td>NaN</td>\n",
       "      <td>NaN</td>\n",
       "      <td>NaN</td>\n",
       "      <td>NaN</td>\n",
       "      <td>NaN</td>\n",
       "    </tr>\n",
       "    <tr>\n",
       "      <th>3</th>\n",
       "      <td>4</td>\n",
       "      <td>Tal der Könige</td>\n",
       "      <td>1992.0</td>\n",
       "      <td>NaN</td>\n",
       "      <td>Sid Sackson</td>\n",
       "      <td>Sid Sackson</td>\n",
       "      <td>(Self-Published)</td>\n",
       "      <td>2.0</td>\n",
       "      <td>4.0</td>\n",
       "      <td>2.0</td>\n",
       "      <td>...</td>\n",
       "      <td>1.23667</td>\n",
       "      <td>5.66660</td>\n",
       "      <td>2.6667</td>\n",
       "      <td>NaN</td>\n",
       "      <td>NaN</td>\n",
       "      <td>NaN</td>\n",
       "      <td>NaN</td>\n",
       "      <td>NaN</td>\n",
       "      <td>NaN</td>\n",
       "      <td>NaN</td>\n",
       "    </tr>\n",
       "    <tr>\n",
       "      <th>4</th>\n",
       "      <td>5</td>\n",
       "      <td>Acquire</td>\n",
       "      <td>1964.0</td>\n",
       "      <td>NaN</td>\n",
       "      <td>Jean du Poël</td>\n",
       "      <td>Jean du Poël</td>\n",
       "      <td>The Avalon Hill Game Co</td>\n",
       "      <td>2.0</td>\n",
       "      <td>6.0</td>\n",
       "      <td>3.0</td>\n",
       "      <td>...</td>\n",
       "      <td>1.33603</td>\n",
       "      <td>7.12541</td>\n",
       "      <td>2.4985</td>\n",
       "      <td>1.095890</td>\n",
       "      <td>NaN</td>\n",
       "      <td>NaN</td>\n",
       "      <td>NaN</td>\n",
       "      <td>NaN</td>\n",
       "      <td>NaN</td>\n",
       "      <td>NaN</td>\n",
       "    </tr>\n",
       "  </tbody>\n",
       "</table>\n",
       "<p>5 rows × 38 columns</p>\n",
       "</div>"
      ],
      "text/plain": [
       "   bgg_id            name    year game_type            designer  \\\n",
       "0       1      Die Macher  1986.0       NaN  Karl-Heinz Schmiel   \n",
       "1       2    Dragonmaster  1981.0       NaN       Reiner Knizia   \n",
       "2       3         Samurai  1998.0       NaN        (Uncredited)   \n",
       "3       4  Tal der Könige  1992.0       NaN         Sid Sackson   \n",
       "4       5         Acquire  1964.0       NaN        Jean du Poël   \n",
       "\n",
       "               artist                publisher  min_players  max_players  \\\n",
       "0  Karl-Heinz Schmiel                      NaN          3.0          5.0   \n",
       "1       Reiner Knizia           Moskito Spiele          3.0          4.0   \n",
       "2        (Uncredited)         Rio Grande Games          2.0          4.0   \n",
       "3         Sid Sackson         (Self-Published)          2.0          4.0   \n",
       "4        Jean du Poël  The Avalon Hill Game Co          2.0          6.0   \n",
       "\n",
       "   min_players_rec  ...  stddev_rating  bayes_rating  complexity  \\\n",
       "0              4.0  ...        1.57510       7.06367      4.3144   \n",
       "1              3.0  ...        1.46752       5.76599      1.9636   \n",
       "2              2.0  ...        1.19279       7.22869      2.4784   \n",
       "3              2.0  ...        1.23667       5.66660      2.6667   \n",
       "4              3.0  ...        1.33603       7.12541      2.4985   \n",
       "\n",
       "   language_dependency  bga_id  dbpedia_id  luding_id spielen_id wikidata_id  \\\n",
       "0             1.166667     NaN         NaN        NaN        NaN         NaN   \n",
       "1                  NaN     NaN         NaN        NaN        NaN         NaN   \n",
       "2             1.006579     NaN         NaN        NaN        NaN         NaN   \n",
       "3                  NaN     NaN         NaN        NaN        NaN         NaN   \n",
       "4             1.095890     NaN         NaN        NaN        NaN         NaN   \n",
       "\n",
       "   wikipedia_id  \n",
       "0           NaN  \n",
       "1           NaN  \n",
       "2           NaN  \n",
       "3           NaN  \n",
       "4           NaN  \n",
       "\n",
       "[5 rows x 38 columns]"
      ]
     },
     "execution_count": 11,
     "metadata": {},
     "output_type": "execute_result"
    }
   ],
   "source": [
    "GameItem.head()"
   ]
  },
  {
   "cell_type": "markdown",
   "id": "3c6a7d85",
   "metadata": {},
   "source": [
    "<b> - Con el .to_csv lo guardamos como archivo .csv <b>"
   ]
  },
  {
   "cell_type": "code",
   "execution_count": 12,
   "id": "66ed086c",
   "metadata": {},
   "outputs": [],
   "source": [
    "GameItem.to_csv(\"Data/DataFrame_GameItem.csv\", index=False)"
   ]
  },
  {
   "cell_type": "markdown",
   "id": "dec5cbbb",
   "metadata": {},
   "source": [
    "**b) (0.2 pts)** ¿Cuánto espacio en disco ocupa este DataFrame? ¿Cuánto espacio en disco ocupan los documentos CSV separados? ¿A qué se debe esta diferencia? Comente.\n",
    "\n"
   ]
  },
  {
   "cell_type": "markdown",
   "id": "030904e0",
   "metadata": {},
   "source": [
    "- El dataframe final tiene un tamaño de 13.603 KB, que es menor a todos los archivos sumados que suman un total de 17.593 KB. A mi parecer esto se debe a que todo esta más comprimido y más estructurado. "
   ]
  },
  {
   "cell_type": "markdown",
   "id": "b8c7bec6",
   "metadata": {},
   "source": [
    "### 3.2 Juegos publicados anualmente (1.5 puntos)\n",
    "\n",
    "\n",
    "**a) (0.5 pts)** Limpie los datos para dejar solo aquellos que tienen valores válidos de año de publicación. Luego responda: ¿cuál es el rango de años con el que estamos trabajando? ¿Tienen sentido estos años?\n"
   ]
  },
  {
   "cell_type": "code",
   "execution_count": null,
   "id": "48ed6d8f",
   "metadata": {},
   "outputs": [],
   "source": [
    "DataFrame = pd.read_csv(\"Data/DataFrame_GameItem.csv\", dtype={3: str, 4: str, 5: str, 6: str, 17: str, 18: str, 22: str}) \n",
    "#Al ejecutar el codigo sin el dtype nos muestra una advertencia sobre que ciertas columnas que tienen una mezcla de tipos de datos, con este los transformo a str\n",
    "DataFrame = DataFrame.dropna(subset=[\"year\"]) #con el comando .dropna borro todos las filas que tengan NaN\n",
    "DataFrame[\"year\"] = DataFrame[\"year\"].astype(int) #con .astype convierto los float a int"
   ]
  },
  {
   "cell_type": "code",
   "execution_count": null,
   "id": "f255b54d",
   "metadata": {},
   "outputs": [],
   "source": [
    "dataframe_años = dataframe_años[(dataframe_años[\"year\"] >= 0) & (dataframe_años[\"year\"] <= 2025)] #defino un rango razonable desde el año 0 hasta el 2025\n",
    "dataframe_años = dataframe_años.sort_values(by=\"year\", ascending=True)"
   ]
  },
  {
   "cell_type": "code",
   "execution_count": 53,
   "id": "a8c60679",
   "metadata": {},
   "outputs": [
    {
     "data": {
      "text/plain": [
       "np.int64(1964)"
      ]
     },
     "execution_count": 53,
     "metadata": {},
     "output_type": "execute_result"
    }
   ],
   "source": [
    "dataframe_años[\"year\"].min()"
   ]
  },
  {
   "cell_type": "code",
   "execution_count": 47,
   "id": "1e9e8a4f",
   "metadata": {},
   "outputs": [
    {
     "data": {
      "text/plain": [
       "np.int64(2025)"
      ]
     },
     "execution_count": 47,
     "metadata": {},
     "output_type": "execute_result"
    }
   ],
   "source": [
    "dataframe_años[\"year\"].max()"
   ]
  },
  {
   "cell_type": "code",
   "execution_count": 63,
   "id": "b80d2e28",
   "metadata": {},
   "outputs": [
    {
     "data": {
      "image/png": "[encoded data removed]",
      "text/plain": [
       "<Figure size 1200x600 with 1 Axes>"
      ]
     },
     "metadata": {},
     "output_type": "display_data"
    }
   ],
   "source": [
    "dataframe_años[\"year\"].hist(bins=len(dataframe_años[\"year\"].unique()), figsize=(12,6))\n",
    "plt.show()"
   ]
  },
  {
   "cell_type": "markdown",
   "id": "7b8d452e",
   "metadata": {},
   "source": [
    "**b) (0.5 pts)** Seleccione solamente los juegos entre los años 1980 y 2025. Luego grafique la cantidad de juegos publicados por año. ¿Cómo es esta tendencia? Comente."
   ]
  },
  {
   "cell_type": "code",
   "execution_count": null,
   "id": "f073e58e",
   "metadata": {},
   "outputs": [],
   "source": []
  },
  {
   "cell_type": "markdown",
   "id": "047c1e61",
   "metadata": {},
   "source": [
    "**c) (0.5 pts)** ¿Entre qué años hubo un mayor aumento de publicación de juegos de mesa según los registros de BGG?"
   ]
  },
  {
   "cell_type": "code",
   "execution_count": null,
   "id": "e09fa10b",
   "metadata": {},
   "outputs": [],
   "source": []
  },
  {
   "cell_type": "markdown",
   "id": "6c22b65f",
   "metadata": {},
   "source": [
    "### 3.3 Análisis de duración y complejidad (1.5 puntos)\n",
    "\n",
    "Si bien hay muchas posibles características que podemos explorar para los juegos de mesa, esta vez nos centraremos en el tiempo de juego y la complejidad. En esta sección queremos comprender si se ha modificado notablemente la duración promedio y la percepción de complejidad de los juegos de mesa a través de los años."
   ]
  },
  {
   "cell_type": "markdown",
   "id": "e6f0c875",
   "metadata": {},
   "source": [
    "**a) (0.3 pts)** Inspecciones y filtre los datos que tengan valores válidos para: tiempo mínimo de juego, tiempo máximo de juego y complejidad. En el caso de que existan \"outliers\", puede descartarlos, cosiderando un rango razonable para las variables anteriores. Justifique su desición."
   ]
  },
  {
   "cell_type": "code",
   "execution_count": null,
   "id": "0e87bbc2",
   "metadata": {},
   "outputs": [],
   "source": []
  },
  {
   "cell_type": "markdown",
   "id": "848e2dee",
   "metadata": {},
   "source": [
    "**b) (0.2 pts)** Veremos ahora si ha cambiado la duración promedio de los juegos de mesa en nuestro rango de años seleccionado. Primero, cree una nueva columna `avg_time` en el dataset con la duración promedio supuesta para cada juego."
   ]
  },
  {
   "cell_type": "code",
   "execution_count": null,
   "id": "204778d8",
   "metadata": {},
   "outputs": [],
   "source": []
  },
  {
   "cell_type": "markdown",
   "id": "89df6ae6",
   "metadata": {},
   "source": [
    "**c) (0.5 pts)** Grafique la duración promedio de juegos al año entre 1980 y 2025. ¿Existe alguna tendencia? Asegúrese de colocar las unidades correspondientes en sus ejes si es necesario. Comente sus resultados."
   ]
  },
  {
   "cell_type": "code",
   "execution_count": null,
   "id": "765da813",
   "metadata": {},
   "outputs": [],
   "source": []
  },
  {
   "cell_type": "markdown",
   "id": "a5847905",
   "metadata": {},
   "source": [
    "**d) (0.5 pts)** Nos interesa saber si los juegos de mesa recientes son más complejos que aquellos publicados antes de los 2000. BoardGameGeek permite evaluar la complejidad (o \"weight\") de un juego en una escala de 1 a 5, siendo 1 un juego \"liviano\" o fácil de entender, y 5 un juego \"pesado\" o complejo. Primero, seleccione los juegos que han sido evaluados por al menos 100 usuarios. Luego grafique la complejidad promedio de los juegos según año. Responda: ¿ha cambiado la percepción de complejidad entre juegos entre 1980 y la actualidad?"
   ]
  },
  {
   "cell_type": "code",
   "execution_count": null,
   "id": "776553e6",
   "metadata": {},
   "outputs": [],
   "source": []
  },
  {
   "cell_type": "markdown",
   "id": "9a241f39",
   "metadata": {},
   "source": [
    "### 3.4 Análisis de categorías comunes (2 puntos)\n",
    "\n",
    "Existe una gran diversidad de categorías de juegos de mesa. Ahora nos concentraremos en un grupo específico de ellas, con el fin de analizar cómo a cambiado la cantidad de juegos de estas clases desde 1980 hasta hoy.\n",
    "\n",
    "**a) (0.7 pts)** ¿Cuáles son las 5 categorías más comunes en los juegos del dataset? Muestre la cantidad de juegos que hay de cada una. Puede graficar estos valores, o bien, entregar un DataFrame con sus valores."
   ]
  },
  {
   "cell_type": "code",
   "execution_count": null,
   "id": "13730de1",
   "metadata": {},
   "outputs": [],
   "source": []
  },
  {
   "cell_type": "markdown",
   "id": "d9aa153e",
   "metadata": {},
   "source": [
    "**b) (0.3 pts)** Para cada una de estas 5 categorías, cree un DataFrame que contenga la cantidad de juegos en el dataset según año. Luego junte estos DataFrames en uno solo con los atributos de \"Año\", \"Categoría\" y \"Cantidad\"."
   ]
  },
  {
   "cell_type": "code",
   "execution_count": null,
   "id": "325d450d",
   "metadata": {},
   "outputs": [],
   "source": []
  },
  {
   "cell_type": "markdown",
   "id": "d299aa4c",
   "metadata": {},
   "source": [
    "**c) (1 pto)** Grafique, en un solo gráfico y con distintos colores, la cantidad de juegos por año según categoría. Preocúpese de ponerle etiquetas al gráfico para identificar cada categoría y una leyenda donde se muestre cada una. Comente: ¿ha habido un cambio entre los juegos más comunes en los años 80 y hoy?\n"
   ]
  },
  {
   "cell_type": "code",
   "execution_count": null,
   "id": "7ad14cda",
   "metadata": {},
   "outputs": [],
   "source": []
  },
  {
   "cell_type": "markdown",
   "id": "9db1ea34-4030-4b3a-8853-4ef75f894298",
   "metadata": {},
   "source": [
    "### 3.5 Análisis Crítico (Bono +0.5 puntos)\n",
    "\n",
    "¿Qué limitaciones o problemas encontraste en los datos?"
   ]
  },
  {
   "cell_type": "code",
   "execution_count": null,
   "id": "cdbb98fe-7278-48ee-af95-05801244c50d",
   "metadata": {},
   "outputs": [],
   "source": []
  }
 ],
 "metadata": {
  "kernelspec": {
   "display_name": "Python 3",
   "language": "python",
   "name": "python3"
  },
  "language_info": {
   "codemirror_mode": {
    "name": "ipython",
    "version": 3
   },
   "file_extension": ".py",
   "mimetype": "text/x-python",
   "name": "python",
   "nbconvert_exporter": "python",
   "pygments_lexer": "ipython3",
   "version": "3.12.9"
  }
 },
 "nbformat": 4,
 "nbformat_minor": 5
}
