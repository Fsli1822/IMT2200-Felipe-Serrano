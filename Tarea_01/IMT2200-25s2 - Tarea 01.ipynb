{
 "cells": [
  {
   "cell_type": "markdown",
   "id": "a34d140a",
   "metadata": {},
   "source": [
    "IMT 2200 - Introducción a Ciencia de Datos<br>\n",
    "**Pontificia Universidad Católica de Chile**<br>\n",
    "**Instituto de Ingeniería Matemática y Computacional**<br>\n",
    "**Semestre 2025-S2**<br>\n",
    "**Profesor:** Rodrigo A. Carrasco <br>\n",
    "\n",
    "---\n",
    "\n",
    "## Tarea 01 – Cargando y Analizando Datos\n",
    "\n",
    "- **Fecha de Entrega:** martes 26 de agosto de 2025, a las 23:59.\n",
    "- \n",
    "**Formato de entrega:** Notebook ejecutado y comentado (`.ipynb`) en l emódulo de Tara 01 habilitado en Canvas.\n",
    "\n",
    "\n"
   ]
  },
  {
   "cell_type": "markdown",
   "id": "b6928ed9-0a2b-4588-8282-b3f3e5e24a8c",
   "metadata": {},
   "source": [
    "## Instrucciones\n",
    "\n",
    "- Esta Tarea debe desarrollarse de manera totalmente *individual*, de acuerdo a lo establecido en la sección de Integridad Académica en el programa del curso.\n",
    "- La Tarea debe ser desarrollada en lenguaje de programación Python y la entrega en formato Jupyter Notebook.\n",
    "- El desarrollo del Notebook debe ser claro y ordenado, incluyendo anotaciones (markdown) y comentarios que permitan seguir fácilmente el código y los pasos implementados a los correctores, y siguiendo buenas prácticas de programación. La presentación y claridad del notebook y código forman parte de la evaluación de la tarea.\n",
    "- Notebook **autocontenible** que:\n",
    "   - Ejecute sin errores todas las celdas.\n",
    "  - Contenga tanto el código como los comentarios y explicaciones necesarias.\n",
    "  - Incluya visualizaciones claras y correctamente etiquetadas.\n",
    "- No se aceptarán notebooks con celdas rotas o que dependan de rutas externas no indicadas en la tara.\n",
    "\n",
    "- Deben hacer sus consultas y comentarios sobre la Tarea a traves del canal de Tareas en eo del curso en Canvas.os.\n",
    "cteriza."
   ]
  },
  {
   "cell_type": "markdown",
   "id": "35a88d5e-b718-4b8e-81c8-dc169d02e88e",
   "metadata": {},
   "source": [
    "## 1. Objetivos\n",
    "\n",
    "- Aplicar los conceptos iniciales de manejo de datos y análisis exploratorio vistos en clases.\n",
    "- Practicar la lectura, limpieza y manipulación de datos en Python.\n",
    "- Desarrollar habilidades para visualizar y describir patrones y tendencias en conjuntos de datos reales.\n",
    "- Fomentar la capacidad de comunicar resultados de forma clara y fundamentada.\n",
    "\n",
    "### 1.1 Objetivo educacional\n",
    "\n",
    "Esta Tarea tiene como objetivo que los estudiantes desarrollen la capacidad de manejar algunas de las librerías centrales para el desarrollo de Ciencia de Datos, con foco en la lectura y exploración de datos. \n",
    "\n",
    "Para los ejercicios a continuación, usted deberá leer, inspeccionar, manipular y graficar conjuntos de datos en distintos formatos, de manera de responder las preguntas de cada parte de la Tarea.\n",
    "\n",
    "### 1.2 Pregunta de ciencia de datos\n",
    "\n",
    "Para esta tarea, tendremos como objetivo comprender cómo han cambiado los juegos de mesa en los últimos 40 años. Específicamente queremos saber qué tipos de juegos se han vuelto más comunes hoy en día y qué los caracteriza.\n",
    "\n",
    "### 1.3 Recomendaciones\n",
    "- Utiliza las librerías sugeridas en el notebook o justifica brevemente si incorporas otras.\n",
    "- Revisa que todas las celdas se ejecuten en orden, desde el inicio, sin errores.\n",
    "- Comenta tu código para explicar qué hace cada sección relevante.\n",
    "- Asegúrate de que las visualizaciones sean fáciles de interpretar y tengan títulos y etiquetas adecuados."
   ]
  },
  {
   "cell_type": "markdown",
   "id": "116596ef",
   "metadata": {},
   "source": [
    "## 2. Datos\n",
    "\n",
    "Estaremos utilizando información extraída desde [BoardGameGeek.com](https://boardgamegeek.com/), una plataforma para aficionados de los juegos de mesa, que permite a sus usuarios registrar, calificar e intercambiar sus juegos favoritos. Actualmente, BGG es una de las bases de datos más extensa y diversa de juegos de mesa.\n",
    "\n",
    "El dataset con el que trabajaremos consiste en un grupo de archivos CSV que contienen información sobre más de 100.000 juegos de mesa almacenados en la plataforma. Este puede descargarse directamente desde el siguiente enlace: https://www.kaggle.com/datasets/mshepherd/board-games Para descargar los datos, haga click en el botón de **Download**, donde podrá descargar los archivos como `.zip`, o bien utilizar la API de Kaggle.\n",
    "\n",
    "Para el desarrollo de esta tarea, solo utilizaremos los archivos con el prefijo `bgg_`.\n",
    "\n",
    "**Si utiliza la API de Kaggle para descargar los datos, deje el código utilizado en la siguiente celda:**"
   ]
  },
  {
   "cell_type": "code",
   "execution_count": 1,
   "id": "3499fd7e",
   "metadata": {},
   "outputs": [],
   "source": [
    "# Descarga de datos desde Kaggle"
   ]
  },
  {
   "cell_type": "markdown",
   "id": "c32f6e52",
   "metadata": {},
   "source": [
    "### 2.1 Librerías\n",
    "\n",
    "Para esta tarea recomendamos al menos usar las librerías indicadas en la siguiente celda del Notebook. Puede agregar otras si lo estima conveniente para responder de mejor forma las preguntas de la Tarea."
   ]
  },
  {
   "cell_type": "code",
   "execution_count": 2,
   "id": "87be9d83",
   "metadata": {},
   "outputs": [],
   "source": [
    "import numpy as np\n",
    "import pandas as pd\n",
    "import matplotlib.pyplot as plt"
   ]
  },
  {
   "cell_type": "markdown",
   "id": "49c9c1e7",
   "metadata": {},
   "source": [
    "## 3. Desarrollo\n",
    "\n",
    "Para cada una de las siguientes preguntas o actividades incluya una o más celdas de código y Markdown con las respuestas o comentarios necesarios para contestar la pregunta o lograr la actividad. Agregue sus celdas a continuación de cada pregunta para que el Notebook quede ordenado.\n",
    "\n",
    "En el caso de gráficos, figuras o tablas, asegúrese que todas tengan título, etiquetas en los ejes o haya claridad de los contenidos."
   ]
  },
  {
   "cell_type": "markdown",
   "id": "dfc274ca",
   "metadata": {},
   "source": [
    "### 3.1 DataFrame unificado (1 punto)\n",
    "\n",
    "Vamos a cargar en un DataFrame los datos de juegos guardados en el documento `bgg_GameItem.csv`. Al inspeccionar nuestros datos, podemos notar que los valores de ciertas comunas vienen \"codificados\" con ID. Para comenzar, vamos a juntar la información de los distintos archivos descargados.\n",
    "\n",
    "**a) (0.8 pts)** Genere un DataFrame único con toda la información de cada juego, incluyendo: nombres de artistas y diseñadores involucrados, mecánicas, categorías, tipo, familia y editorial. Guarde este DataFrame en un nuevo archivo CSV."
   ]
  },
  {
   "cell_type": "markdown",
   "id": "5ac35d88",
   "metadata": {},
   "source": [
    "- <b>Primero:<b> abrimos las rutas de los archivos a trabajar y los transformamos en dataframes"
   ]
  },
  {
   "cell_type": "code",
   "execution_count": null,
   "id": "875deb7d",
   "metadata": {},
   "outputs": [],
   "source": [
    "category_df = pd.read_csv(\"Data/bgg_Category.csv\")\n",
    "game_family_df = pd.read_csv(\"Data/bgg_GameFamily.csv\")\n",
    "game_Item_df = pd.read_csv(\"Data/bgg_GameItem.csv\")\n",
    "game_Type_df = pd.read_csv(\"Data/bgg_GameType.csv\")\n",
    "mechanic_df = pd.read_csv(\"Data/bgg_Mechanic.csv\")\n",
    "person_df = pd.read_csv(\"Data/bgg_Person.csv\")\n",
    "publisher_df = pd.read_csv(\"Data/bgg_Publisher.csv\")\n",
    "\n",
    "category_dict = dict(zip(category_df['bgg_id'], category_df['name']))\n",
    "\n",
    "family_dict = dict(zip(game_family_df['bgg_id'], game_family_df['name']))\n",
    "\n",
    "type_dict = dict(zip(game_Type_df['bgg_id'], game_Type_df['name']))\n",
    "\n",
    "mechanic_dict = dict(zip(mechanic_df['bgg_id'], mechanic_df['name']))\n",
    "\n",
    "person_dict = dict(zip(person_df['bgg_id'], person_df['name']))\n",
    "\n",
    "publisher_dict = dict(zip(publisher_df['bgg_id'], publisher_df['name']))\n",
    "def map_ids_to_names(id_string, mapping_dict):\n",
    "    if pd.isna(id_string):\n",
    "        return []\n",
    "    return [mapping_dict.get(int(i), f\"Unknown-{i}\") for i in str(id_string).split(',')]\n",
    "games = game_Item_df.copy()\n",
    "\n",
    "games['category_names'] = games['category'].apply(lambda x: map_ids_to_names(x, category_dict))\n",
    "\n",
    "games['mechanic_names'] = games['mechanic'].apply(lambda x: map_ids_to_names(x, mechanic_dict))\n",
    "\n",
    "def map_single_id_to_name(id_value, mapping_dict):\n",
    "    if pd.isna(id_value) or id_value == '':\n",
    "        return 'Unknown'\n",
    "    try:\n",
    "        return mapping_dict.get(int(id_value), f'Unknown-{id_value}')\n",
    "    except ValueError:\n",
    "        return f'Unknown-{id_value}'\n",
    "\n",
    "games['category'] = games['category'].apply(lambda x: map_ids_to_names(x, category_dict))\n",
    "games['mechanic'] = games['mechanic'].apply(lambda x: map_ids_to_names(x, mechanic_dict))\n",
    "games['game_type'] = games['game_type'].apply(lambda x: map_single_id_to_name(x, type_dict))\n",
    "games['family'] = games['family'].apply(lambda x: map_ids_to_names(x, family_dict))\n",
    "games['designer'] = games['designer'].apply(lambda x: map_ids_to_names(x, person_dict))\n",
    "games['artist'] = games['artist'].apply(lambda x: map_ids_to_names(x, person_dict))\n",
    "games['publisher'] = games['publisher'].apply(lambda x: map_ids_to_names(x, publisher_dict))\n",
    "list_columns = ['category', 'mechanic', 'designer', 'artist', 'publisher', 'family', 'category_names', 'mechanic_names']\n",
    "\n",
    "for col in list_columns:\n",
    "    games[col] = games[col].apply(lambda x: ', '.join(x) if isinstance(x, list) else x)\n",
    "\n",
    "games.to_csv(\"Data/bgg_games_unificado.csv\", index=False)\n",
    "nuevo_df = pd.read_csv(\"Data/bgg_games_unificado.csv\")\n",
    "nuevo_df.head()"
   ]
  },
  {
   "cell_type": "markdown",
   "id": "a2cda3aa",
   "metadata": {},
   "source": [
    "<b> - Luego con el comando .merge unimos los dataframes. <b>"
   ]
  },
  {
   "cell_type": "markdown",
   "id": "4be5d1bb",
   "metadata": {},
   "source": [
    "<b> - Por ultimo con el .head generamos el dataframe. <b>"
   ]
  },
  {
   "cell_type": "markdown",
   "id": "3c6a7d85",
   "metadata": {},
   "source": [
    "<b> - Con el .to_csv lo guardamos como archivo .csv <b>"
   ]
  },
  {
   "cell_type": "markdown",
   "id": "dec5cbbb",
   "metadata": {},
   "source": [
    "**b) (0.2 pts)** ¿Cuánto espacio en disco ocupa este DataFrame? ¿Cuánto espacio en disco ocupan los documentos CSV separados? ¿A qué se debe esta diferencia? Comente.\n",
    "\n"
   ]
  },
  {
   "cell_type": "markdown",
   "id": "030904e0",
   "metadata": {},
   "source": [
    "- El dataframe final tiene un tamaño de 38.422 KB, que es mayor notoriamente a todos los archivos sumados, que en total suman 17.593 KB. A mi parecer esto se debe a que todo esta dentro de un mismo archivo, haciendolo más pesado."
   ]
  },
  {
   "cell_type": "markdown",
   "id": "b8c7bec6",
   "metadata": {},
   "source": [
    "### 3.2 Juegos publicados anualmente (1.5 puntos)\n",
    "\n",
    "\n",
    "**a) (0.5 pts)** Limpie los datos para dejar solo aquellos que tienen valores válidos de año de publicación. Luego responda: ¿cuál es el rango de años con el que estamos trabajando? ¿Tienen sentido estos años?\n"
   ]
  },
  {
   "cell_type": "code",
   "execution_count": null,
   "id": "48ed6d8f",
   "metadata": {},
   "outputs": [
    {
     "name": "stdout",
     "output_type": "stream",
     "text": [
      "-3500.0\n",
      "2026.0\n",
      "count    104219.000000\n",
      "mean       2001.765551\n",
      "std          66.493704\n",
      "min       -3500.000000\n",
      "25%        1998.000000\n",
      "50%        2011.000000\n",
      "75%        2018.000000\n",
      "max        2026.000000\n",
      "Name: year, dtype: float64\n"
     ]
    }
   ],
   "source": [
    "nuevo_df = nuevo_df.dropna(subset=\"year\") #Con el .dropna lo que hacemos es eliminar las filas que tienen Nan en \"year\"\n",
    "print(nuevo_df[\"year\"].min()) #Minimo\n",
    "print(nuevo_df[\"year\"].max()) #Maximo"
   ]
  },
  {
   "cell_type": "markdown",
   "id": "c41ef622",
   "metadata": {},
   "source": [
    "* El rango que tienen estos datos son del años -3500 hasta el 2026. Estos no tienen sentido ya que según internet los juegos de mesas datan desde el año 1960 hasta la actualidad, sin contar el 2026 ya que estamos en 2025."
   ]
  },
  {
   "cell_type": "markdown",
   "id": "e9a859d9",
   "metadata": {},
   "source": []
  },
  {
   "cell_type": "markdown",
   "id": "7b8d452e",
   "metadata": {},
   "source": [
    "**b) (0.5 pts)** Seleccione solamente los juegos entre los años 1980 y 2025. Luego grafique la cantidad de juegos publicados por año. ¿Cómo es esta tendencia? Comente."
   ]
  },
  {
   "cell_type": "code",
   "execution_count": null,
   "id": "f073e58e",
   "metadata": {},
   "outputs": [],
   "source": [
    "df_filtrado = nuevo_df[(nuevo_df[\"year\"] >= 1980 ) & (nuevo_df[\"year\"] <= 2025)]"
   ]
  },
  {
   "cell_type": "code",
   "execution_count": null,
   "id": "e0df17b7",
   "metadata": {},
   "outputs": [
    {
     "data": {
      "image/png": "[encoded data removed]",
      "text/plain": [
       "<Figure size 1000x500 with 1 Axes>"
      ]
     },
     "metadata": {},
     "output_type": "display_data"
    }
   ],
   "source": [
    "juegos_por_año = df_filtrado[\"year\"].value_counts().sort_index()\n",
    "\n",
    "plt.figure(figsize=(10,5))\n",
    "plt.bar(juegos_por_año.index, juegos_por_año.values, color=\"lime\")\n",
    "\n",
    "plt.title(\"Cantidad de juegos por año\")\n",
    "plt.xlabel(\"Año de publicación\")\n",
    "plt.ylabel(\"Cantidad de juegos\")\n",
    "plt.show()"
   ]
  },
  {
   "cell_type": "markdown",
   "id": "c4986a5d",
   "metadata": {},
   "source": [
    "* La tendencia que tienen los juegos de mesas es ascendente mientras más pasan los años, más juegos se crean. Pero luego del 2020 notamos una gran caida en la creación de juego de mesa."
   ]
  },
  {
   "cell_type": "markdown",
   "id": "047c1e61",
   "metadata": {},
   "source": [
    "**c) (0.5 pts)** ¿Entre qué años hubo un mayor aumento de publicación de juegos de mesa según los registros de BGG?"
   ]
  },
  {
   "cell_type": "code",
   "execution_count": null,
   "id": "e09fa10b",
   "metadata": {},
   "outputs": [
    {
     "name": "stdout",
     "output_type": "stream",
     "text": [
      "2014.0 484.0\n"
     ]
    }
   ],
   "source": [
    "crecimiento = juegos_por_año.diff()\n",
    "\n",
    "max_año = crecimiento.idxmax()\n",
    "max_crecimiento = crecimiento.max()\n",
    "\n",
    "print(max_año, max_crecimiento)"
   ]
  },
  {
   "cell_type": "markdown",
   "id": "d6da4e1a",
   "metadata": {},
   "source": [
    "* Con la función .diff() podemos encontrar las diferencias entre cada año y con idmax() encontramos el año, el cual es el 2014, con un aumento de 484 juegos desde el 2013."
   ]
  },
  {
   "cell_type": "markdown",
   "id": "6c22b65f",
   "metadata": {},
   "source": [
    "### 3.3 Análisis de duración y complejidad (1.5 puntos)\n",
    "\n",
    "Si bien hay muchas posibles características que podemos explorar para los juegos de mesa, esta vez nos centraremos en el tiempo de juego y la complejidad. En esta sección queremos comprender si se ha modificado notablemente la duración promedio y la percepción de complejidad de los juegos de mesa a través de los años."
   ]
  },
  {
   "cell_type": "markdown",
   "id": "e6f0c875",
   "metadata": {},
   "source": [
    "**a) (0.3 pts)** Inspecciones y filtre los datos que tengan valores válidos para: tiempo mínimo de juego, tiempo máximo de juego y complejidad. En el caso de que existan \"outliers\", puede descartarlos, cosiderando un rango razonable para las variables anteriores. Justifique su desición."
   ]
  },
  {
   "cell_type": "code",
   "execution_count": null,
   "id": "0e87bbc2",
   "metadata": {},
   "outputs": [],
   "source": []
  },
  {
   "cell_type": "markdown",
   "id": "848e2dee",
   "metadata": {},
   "source": [
    "**b) (0.2 pts)** Veremos ahora si ha cambiado la duración promedio de los juegos de mesa en nuestro rango de años seleccionado. Primero, cree una nueva columna `avg_time` en el dataset con la duración promedio supuesta para cada juego."
   ]
  },
  {
   "cell_type": "code",
   "execution_count": null,
   "id": "204778d8",
   "metadata": {},
   "outputs": [],
   "source": []
  },
  {
   "cell_type": "markdown",
   "id": "89df6ae6",
   "metadata": {},
   "source": [
    "**c) (0.5 pts)** Grafique la duración promedio de juegos al año entre 1980 y 2025. ¿Existe alguna tendencia? Asegúrese de colocar las unidades correspondientes en sus ejes si es necesario. Comente sus resultados."
   ]
  },
  {
   "cell_type": "code",
   "execution_count": null,
   "id": "765da813",
   "metadata": {},
   "outputs": [],
   "source": []
  },
  {
   "cell_type": "markdown",
   "id": "a5847905",
   "metadata": {},
   "source": [
    "**d) (0.5 pts)** Nos interesa saber si los juegos de mesa recientes son más complejos que aquellos publicados antes de los 2000. BoardGameGeek permite evaluar la complejidad (o \"weight\") de un juego en una escala de 1 a 5, siendo 1 un juego \"liviano\" o fácil de entender, y 5 un juego \"pesado\" o complejo. Primero, seleccione los juegos que han sido evaluados por al menos 100 usuarios. Luego grafique la complejidad promedio de los juegos según año. Responda: ¿ha cambiado la percepción de complejidad entre juegos entre 1980 y la actualidad?"
   ]
  },
  {
   "cell_type": "code",
   "execution_count": null,
   "id": "776553e6",
   "metadata": {},
   "outputs": [],
   "source": []
  },
  {
   "cell_type": "markdown",
   "id": "9a241f39",
   "metadata": {},
   "source": [
    "### 3.4 Análisis de categorías comunes (2 puntos)\n",
    "\n",
    "Existe una gran diversidad de categorías de juegos de mesa. Ahora nos concentraremos en un grupo específico de ellas, con el fin de analizar cómo a cambiado la cantidad de juegos de estas clases desde 1980 hasta hoy.\n",
    "\n",
    "**a) (0.7 pts)** ¿Cuáles son las 5 categorías más comunes en los juegos del dataset? Muestre la cantidad de juegos que hay de cada una. Puede graficar estos valores, o bien, entregar un DataFrame con sus valores."
   ]
  },
  {
   "cell_type": "code",
   "execution_count": null,
   "id": "13730de1",
   "metadata": {},
   "outputs": [],
   "source": []
  },
  {
   "cell_type": "markdown",
   "id": "d9aa153e",
   "metadata": {},
   "source": [
    "**b) (0.3 pts)** Para cada una de estas 5 categorías, cree un DataFrame que contenga la cantidad de juegos en el dataset según año. Luego junte estos DataFrames en uno solo con los atributos de \"Año\", \"Categoría\" y \"Cantidad\"."
   ]
  },
  {
   "cell_type": "code",
   "execution_count": null,
   "id": "325d450d",
   "metadata": {},
   "outputs": [],
   "source": []
  },
  {
   "cell_type": "markdown",
   "id": "d299aa4c",
   "metadata": {},
   "source": [
    "**c) (1 pto)** Grafique, en un solo gráfico y con distintos colores, la cantidad de juegos por año según categoría. Preocúpese de ponerle etiquetas al gráfico para identificar cada categoría y una leyenda donde se muestre cada una. Comente: ¿ha habido un cambio entre los juegos más comunes en los años 80 y hoy?\n"
   ]
  },
  {
   "cell_type": "code",
   "execution_count": null,
   "id": "7ad14cda",
   "metadata": {},
   "outputs": [],
   "source": []
  },
  {
   "cell_type": "markdown",
   "id": "9db1ea34-4030-4b3a-8853-4ef75f894298",
   "metadata": {},
   "source": [
    "### 3.5 Análisis Crítico (Bono +0.5 puntos)\n",
    "\n",
    "¿Qué limitaciones o problemas encontraste en los datos?"
   ]
  },
  {
   "cell_type": "code",
   "execution_count": null,
   "id": "cdbb98fe-7278-48ee-af95-05801244c50d",
   "metadata": {},
   "outputs": [],
   "source": []
  }
 ],
 "metadata": {
  "kernelspec": {
   "display_name": "Python 3",
   "language": "python",
   "name": "python3"
  },
  "language_info": {
   "codemirror_mode": {
    "name": "ipython",
    "version": 3
   },
   "file_extension": ".py",
   "mimetype": "text/x-python",
   "name": "python",
   "nbconvert_exporter": "python",
   "pygments_lexer": "ipython3",
   "version": "3.12.9"
  }
 },
 "nbformat": 4,
 "nbformat_minor": 5
}
